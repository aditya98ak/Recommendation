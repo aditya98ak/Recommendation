{
  "nbformat": 4,
  "nbformat_minor": 0,
  "metadata": {
    "colab": {
      "name": "Dating_Recommendation.ipynb",
      "version": "0.3.2",
      "provenance": [],
      "collapsed_sections": []
    },
    "kernelspec": {
      "name": "python3",
      "display_name": "Python 3"
    },
    "accelerator": "GPU"
  },
  "cells": [
    {
      "metadata": {
        "id": "PsxhDNmO0rNJ",
        "colab_type": "code",
        "colab": {}
      },
      "cell_type": "code",
      "source": [
        "#Authenticate\n",
        "!pip install -U -q PyDrive\n",
        "from pydrive.auth import GoogleAuth\n",
        "from pydrive.drive import GoogleDrive\n",
        "from google.colab import auth\n",
        "from oauth2client.client import GoogleCredentials\n",
        "\n",
        "\n",
        "auth.authenticate_user()\n",
        "gauth = GoogleAuth()\n",
        "gauth.credentials = GoogleCredentials.get_application_default()\n",
        "drive = GoogleDrive(gauth)"
      ],
      "execution_count": 0,
      "outputs": []
    },
    {
      "metadata": {
        "id": "pD8IOwFfwRP4",
        "colab_type": "code",
        "colab": {}
      },
      "cell_type": "code",
      "source": [
        "import numpy as np\n",
        "import pandas as pd"
      ],
      "execution_count": 0,
      "outputs": []
    },
    {
      "metadata": {
        "id": "cGQc0A2rwoIk",
        "colab_type": "text"
      },
      "cell_type": "markdown",
      "source": [
        "Data for this dating profile is available at www.libimseti.cz - Dating website recommendation (collaborative filtering) http://www.occamslab.com/petricek/data/ \n"
      ]
    },
    {
      "metadata": {
        "id": "jsbUGb-dx8qi",
        "colab_type": "text"
      },
      "cell_type": "markdown",
      "source": [
        "Indian Matrimonial DataSet at http://iacs-courses.seas.harvard.edu/courses/iacs_projects/matrimony_data_exploration/introduction.html. You may want to look at the dataset. This dataset is huge, so many csv's.\n",
        "https://github.com/deadofied/ac299r/tree/master/data"
      ]
    },
    {
      "metadata": {
        "id": "4YMzr9JKyce9",
        "colab_type": "code",
        "colab": {}
      },
      "cell_type": "code",
      "source": [
        "#dataset_id - 17FCZe4aPSTepWZrt6CwbFNoe0xU9wXi5\n",
        "dataset_downloaded = drive.CreateFile({'id':'17FCZe4aPSTepWZrt6CwbFNoe0xU9wXi5'})\n",
        "dataset_downloaded.GetContentFile('ratings.csv')\n",
        "columns= ['UserID','ProfileID','Rating']\n",
        "df_dating = pd.read_csv('ratings.csv',names = columns)"
      ],
      "execution_count": 0,
      "outputs": []
    },
    {
      "metadata": {
        "id": "3rs7tcP93yVL",
        "colab_type": "code",
        "colab": {
          "base_uri": "https://localhost:8080/",
          "height": 206
        },
        "outputId": "0569639c-fb54-4833-e84b-debdc2f02c8e"
      },
      "cell_type": "code",
      "source": [
        "df_dating.head()"
      ],
      "execution_count": 9,
      "outputs": [
        {
          "output_type": "execute_result",
          "data": {
            "text/html": [
              "<div>\n",
              "<style scoped>\n",
              "    .dataframe tbody tr th:only-of-type {\n",
              "        vertical-align: middle;\n",
              "    }\n",
              "\n",
              "    .dataframe tbody tr th {\n",
              "        vertical-align: top;\n",
              "    }\n",
              "\n",
              "    .dataframe thead th {\n",
              "        text-align: right;\n",
              "    }\n",
              "</style>\n",
              "<table border=\"1\" class=\"dataframe\">\n",
              "  <thead>\n",
              "    <tr style=\"text-align: right;\">\n",
              "      <th></th>\n",
              "      <th>UserID</th>\n",
              "      <th>ProfileID</th>\n",
              "      <th>Rating</th>\n",
              "    </tr>\n",
              "  </thead>\n",
              "  <tbody>\n",
              "    <tr>\n",
              "      <th>0</th>\n",
              "      <td>1</td>\n",
              "      <td>133</td>\n",
              "      <td>8</td>\n",
              "    </tr>\n",
              "    <tr>\n",
              "      <th>1</th>\n",
              "      <td>1</td>\n",
              "      <td>720</td>\n",
              "      <td>6</td>\n",
              "    </tr>\n",
              "    <tr>\n",
              "      <th>2</th>\n",
              "      <td>1</td>\n",
              "      <td>971</td>\n",
              "      <td>10</td>\n",
              "    </tr>\n",
              "    <tr>\n",
              "      <th>3</th>\n",
              "      <td>1</td>\n",
              "      <td>1095</td>\n",
              "      <td>7</td>\n",
              "    </tr>\n",
              "    <tr>\n",
              "      <th>4</th>\n",
              "      <td>1</td>\n",
              "      <td>1616</td>\n",
              "      <td>10</td>\n",
              "    </tr>\n",
              "  </tbody>\n",
              "</table>\n",
              "</div>"
            ],
            "text/plain": [
              "   UserID  ProfileID  Rating\n",
              "0       1        133       8\n",
              "1       1        720       6\n",
              "2       1        971      10\n",
              "3       1       1095       7\n",
              "4       1       1616      10"
            ]
          },
          "metadata": {
            "tags": []
          },
          "execution_count": 9
        }
      ]
    },
    {
      "metadata": {
        "id": "MYyoFrXd328K",
        "colab_type": "code",
        "colab": {
          "base_uri": "https://localhost:8080/",
          "height": 35
        },
        "outputId": "a08345e8-796f-402c-c0ed-c973de9e4f96"
      },
      "cell_type": "code",
      "source": [
        "df_dating.shape"
      ],
      "execution_count": 12,
      "outputs": [
        {
          "output_type": "execute_result",
          "data": {
            "text/plain": [
              "(17359346, 3)"
            ]
          },
          "metadata": {
            "tags": []
          },
          "execution_count": 12
        }
      ]
    },
    {
      "metadata": {
        "id": "_8cxP6ZO5B2f",
        "colab_type": "code",
        "colab": {
          "base_uri": "https://localhost:8080/",
          "height": 35
        },
        "outputId": "a2de9626-e129-45ce-de7b-fbabb87611b1"
      },
      "cell_type": "code",
      "source": [
        "df_dating['UserID'].nunique(), df_dating['ProfileID'].nunique()"
      ],
      "execution_count": 13,
      "outputs": [
        {
          "output_type": "execute_result",
          "data": {
            "text/plain": [
              "(135359, 168791)"
            ]
          },
          "metadata": {
            "tags": []
          },
          "execution_count": 13
        }
      ]
    },
    {
      "metadata": {
        "id": "cFK18iJhzotB",
        "colab_type": "code",
        "colab": {}
      },
      "cell_type": "code",
      "source": [
        "# Making another dataframe in which sampling will be done; in order to preserve the original.\n",
        "df_dating_beta = df_dating.copy()"
      ],
      "execution_count": 0,
      "outputs": []
    },
    {
      "metadata": {
        "id": "F8uburm45SP1",
        "colab_type": "code",
        "colab": {}
      },
      "cell_type": "code",
      "source": [
        "#ttps://drive.google.com/open?id=1XJKFEpMvXJOzkcxZgncLGJoHWr7bE7m-\n",
        "dataset_downloaded = drive.CreateFile({'id':'1XJKFEpMvXJOzkcxZgncLGJoHWr7bE7m-'})\n",
        "dataset_downloaded.GetContentFile('gender.csv')\n",
        "columns= ['Gender']\n",
        "df_gender = pd.read_csv('gender.csv',names = columns)"
      ],
      "execution_count": 0,
      "outputs": []
    },
    {
      "metadata": {
        "id": "OX--QvfR6DEN",
        "colab_type": "code",
        "colab": {
          "base_uri": "https://localhost:8080/",
          "height": 206
        },
        "outputId": "349d75d5-6ea1-43e2-a8da-fef58ed23d54"
      },
      "cell_type": "code",
      "source": [
        "df_gender.head()"
      ],
      "execution_count": 16,
      "outputs": [
        {
          "output_type": "execute_result",
          "data": {
            "text/html": [
              "<div>\n",
              "<style scoped>\n",
              "    .dataframe tbody tr th:only-of-type {\n",
              "        vertical-align: middle;\n",
              "    }\n",
              "\n",
              "    .dataframe tbody tr th {\n",
              "        vertical-align: top;\n",
              "    }\n",
              "\n",
              "    .dataframe thead th {\n",
              "        text-align: right;\n",
              "    }\n",
              "</style>\n",
              "<table border=\"1\" class=\"dataframe\">\n",
              "  <thead>\n",
              "    <tr style=\"text-align: right;\">\n",
              "      <th></th>\n",
              "      <th>Gender</th>\n",
              "    </tr>\n",
              "  </thead>\n",
              "  <tbody>\n",
              "    <tr>\n",
              "      <th>1</th>\n",
              "      <td>F</td>\n",
              "    </tr>\n",
              "    <tr>\n",
              "      <th>2</th>\n",
              "      <td>F</td>\n",
              "    </tr>\n",
              "    <tr>\n",
              "      <th>3</th>\n",
              "      <td>U</td>\n",
              "    </tr>\n",
              "    <tr>\n",
              "      <th>4</th>\n",
              "      <td>F</td>\n",
              "    </tr>\n",
              "    <tr>\n",
              "      <th>5</th>\n",
              "      <td>F</td>\n",
              "    </tr>\n",
              "  </tbody>\n",
              "</table>\n",
              "</div>"
            ],
            "text/plain": [
              "  Gender\n",
              "1      F\n",
              "2      F\n",
              "3      U\n",
              "4      F\n",
              "5      F"
            ]
          },
          "metadata": {
            "tags": []
          },
          "execution_count": 16
        }
      ]
    },
    {
      "metadata": {
        "id": "-alhit3A6PzL",
        "colab_type": "code",
        "colab": {
          "base_uri": "https://localhost:8080/",
          "height": 35
        },
        "outputId": "d7b1596f-9e9b-4b37-ef07-e3f69cace11f"
      },
      "cell_type": "code",
      "source": [
        "df_gender.shape"
      ],
      "execution_count": 17,
      "outputs": [
        {
          "output_type": "execute_result",
          "data": {
            "text/plain": [
              "(220970, 1)"
            ]
          },
          "metadata": {
            "tags": []
          },
          "execution_count": 17
        }
      ]
    },
    {
      "metadata": {
        "id": "IzM7JEB96TlC",
        "colab_type": "code",
        "colab": {
          "base_uri": "https://localhost:8080/",
          "height": 91
        },
        "outputId": "0e874187-1f51-41d7-be96-b91a8b7be6fe"
      },
      "cell_type": "code",
      "source": [
        "df_gender['Gender'].value_counts()"
      ],
      "execution_count": 18,
      "outputs": [
        {
          "output_type": "execute_result",
          "data": {
            "text/plain": [
              "U    83164\n",
              "M    76441\n",
              "F    61365\n",
              "Name: Gender, dtype: int64"
            ]
          },
          "metadata": {
            "tags": []
          },
          "execution_count": 18
        }
      ]
    },
    {
      "metadata": {
        "id": "VX4uk3kd6-8a",
        "colab_type": "code",
        "colab": {}
      },
      "cell_type": "code",
      "source": [
        "profile_mean_rating = pd.DataFrame(df_dating.groupby('ProfileID')['Rating'].mean())"
      ],
      "execution_count": 0,
      "outputs": []
    },
    {
      "metadata": {
        "id": "b0_nAhBp-Uh3",
        "colab_type": "code",
        "colab": {}
      },
      "cell_type": "code",
      "source": [
        "user_mean_rating =pd.DataFrame(df_dating.groupby('UserID')['Rating'].mean())"
      ],
      "execution_count": 0,
      "outputs": []
    },
    {
      "metadata": {
        "id": "4tRyL4hL-gOc",
        "colab_type": "code",
        "colab": {}
      },
      "cell_type": "code",
      "source": [
        "profile_mean_rating['number of rating'] = pd.DataFrame(df_dating.groupby('ProfileID')['Rating'].count())"
      ],
      "execution_count": 0,
      "outputs": []
    },
    {
      "metadata": {
        "id": "YR_sMnPjGFia",
        "colab_type": "code",
        "colab": {}
      },
      "cell_type": "code",
      "source": [
        "user_mean_rating['number of rating'] = pd.DataFrame(df_dating.groupby('UserID')['Rating'].count())"
      ],
      "execution_count": 0,
      "outputs": []
    },
    {
      "metadata": {
        "id": "81iJ28Y3GNBj",
        "colab_type": "code",
        "colab": {}
      },
      "cell_type": "code",
      "source": [
        "user_new_meanrate = user_mean_rating[user_mean_rating['number of rating'] > 300]"
      ],
      "execution_count": 0,
      "outputs": []
    },
    {
      "metadata": {
        "id": "E3y7Q1FyGPHB",
        "colab_type": "code",
        "colab": {}
      },
      "cell_type": "code",
      "source": [
        ""
      ],
      "execution_count": 0,
      "outputs": []
    },
    {
      "metadata": {
        "id": "EIystKBT1sxW",
        "colab_type": "code",
        "colab": {}
      },
      "cell_type": "code",
      "source": [
        "user_index = user_new_meanrate.index"
      ],
      "execution_count": 0,
      "outputs": []
    },
    {
      "metadata": {
        "id": "nQN-Vhav1_Pc",
        "colab_type": "code",
        "colab": {}
      },
      "cell_type": "code",
      "source": [
        "profile_new_meanrate = profile_mean_rating[profile_mean_rating['number of rating'] > 300 ]"
      ],
      "execution_count": 0,
      "outputs": []
    },
    {
      "metadata": {
        "id": "8u_sH9K-2ZO_",
        "colab_type": "code",
        "colab": {}
      },
      "cell_type": "code",
      "source": [
        "profile_index = profile_new_meanrate.index"
      ],
      "execution_count": 0,
      "outputs": []
    },
    {
      "metadata": {
        "id": "rRNWl9u42enR",
        "colab_type": "code",
        "colab": {
          "base_uri": "https://localhost:8080/",
          "height": 35
        },
        "outputId": "dbca7f82-53a0-48e3-dc83-1959de5b11cf"
      },
      "cell_type": "code",
      "source": [
        "type(profile_index)"
      ],
      "execution_count": 33,
      "outputs": [
        {
          "output_type": "execute_result",
          "data": {
            "text/plain": [
              "pandas.core.indexes.numeric.Int64Index"
            ]
          },
          "metadata": {
            "tags": []
          },
          "execution_count": 33
        }
      ]
    },
    {
      "metadata": {
        "id": "_S7j9c-48kgo",
        "colab_type": "code",
        "colab": {}
      },
      "cell_type": "code",
      "source": [
        "df_dating_sample = df_dating.loc[(df_dating['UserID'].isin(user_index)) & (df_dating['ProfileID'].isin(profile_index))]"
      ],
      "execution_count": 0,
      "outputs": []
    },
    {
      "metadata": {
        "id": "tPFDy8L93VMh",
        "colab_type": "code",
        "colab": {
          "base_uri": "https://localhost:8080/",
          "height": 35
        },
        "outputId": "600e7207-6031-43d1-d790-5f59b1d42720"
      },
      "cell_type": "code",
      "source": [
        "df_dating_sample.shape"
      ],
      "execution_count": 35,
      "outputs": [
        {
          "output_type": "execute_result",
          "data": {
            "text/plain": [
              "(3465704, 3)"
            ]
          },
          "metadata": {
            "tags": []
          },
          "execution_count": 35
        }
      ]
    },
    {
      "metadata": {
        "id": "8FD6vPmc_Ik-",
        "colab_type": "code",
        "colab": {
          "base_uri": "https://localhost:8080/",
          "height": 35
        },
        "outputId": "16d58d07-faac-45c5-8c29-a0609a544460"
      },
      "cell_type": "code",
      "source": [
        "df_dating_sample['UserID'].nunique(), df_dating_sample['ProfileID'].nunique()"
      ],
      "execution_count": 36,
      "outputs": [
        {
          "output_type": "execute_result",
          "data": {
            "text/plain": [
              "(8130, 12458)"
            ]
          },
          "metadata": {
            "tags": []
          },
          "execution_count": 36
        }
      ]
    },
    {
      "metadata": {
        "id": "nIeOGWS2Bl82",
        "colab_type": "code",
        "colab": {
          "base_uri": "https://localhost:8080/",
          "height": 206
        },
        "outputId": "2e74b684-ebf4-41a4-d919-08abfa03f3b6"
      },
      "cell_type": "code",
      "source": [
        "df_dating_sample.head()"
      ],
      "execution_count": 37,
      "outputs": [
        {
          "output_type": "execute_result",
          "data": {
            "text/html": [
              "<div>\n",
              "<style scoped>\n",
              "    .dataframe tbody tr th:only-of-type {\n",
              "        vertical-align: middle;\n",
              "    }\n",
              "\n",
              "    .dataframe tbody tr th {\n",
              "        vertical-align: top;\n",
              "    }\n",
              "\n",
              "    .dataframe thead th {\n",
              "        text-align: right;\n",
              "    }\n",
              "</style>\n",
              "<table border=\"1\" class=\"dataframe\">\n",
              "  <thead>\n",
              "    <tr style=\"text-align: right;\">\n",
              "      <th></th>\n",
              "      <th>UserID</th>\n",
              "      <th>ProfileID</th>\n",
              "      <th>Rating</th>\n",
              "    </tr>\n",
              "  </thead>\n",
              "  <tbody>\n",
              "    <tr>\n",
              "      <th>0</th>\n",
              "      <td>1</td>\n",
              "      <td>133</td>\n",
              "      <td>8</td>\n",
              "    </tr>\n",
              "    <tr>\n",
              "      <th>1</th>\n",
              "      <td>1</td>\n",
              "      <td>720</td>\n",
              "      <td>6</td>\n",
              "    </tr>\n",
              "    <tr>\n",
              "      <th>2</th>\n",
              "      <td>1</td>\n",
              "      <td>971</td>\n",
              "      <td>10</td>\n",
              "    </tr>\n",
              "    <tr>\n",
              "      <th>3</th>\n",
              "      <td>1</td>\n",
              "      <td>1095</td>\n",
              "      <td>7</td>\n",
              "    </tr>\n",
              "    <tr>\n",
              "      <th>4</th>\n",
              "      <td>1</td>\n",
              "      <td>1616</td>\n",
              "      <td>10</td>\n",
              "    </tr>\n",
              "  </tbody>\n",
              "</table>\n",
              "</div>"
            ],
            "text/plain": [
              "   UserID  ProfileID  Rating\n",
              "0       1        133       8\n",
              "1       1        720       6\n",
              "2       1        971      10\n",
              "3       1       1095       7\n",
              "4       1       1616      10"
            ]
          },
          "metadata": {
            "tags": []
          },
          "execution_count": 37
        }
      ]
    },
    {
      "metadata": {
        "id": "H-dv10UPGPoF",
        "colab_type": "code",
        "colab": {
          "base_uri": "https://localhost:8080/",
          "height": 238
        },
        "outputId": "4766f227-4034-48f3-d6ef-ba6f4610abb1"
      },
      "cell_type": "code",
      "source": [
        "profile_mean_rating.head()"
      ],
      "execution_count": 38,
      "outputs": [
        {
          "output_type": "execute_result",
          "data": {
            "text/html": [
              "<div>\n",
              "<style scoped>\n",
              "    .dataframe tbody tr th:only-of-type {\n",
              "        vertical-align: middle;\n",
              "    }\n",
              "\n",
              "    .dataframe tbody tr th {\n",
              "        vertical-align: top;\n",
              "    }\n",
              "\n",
              "    .dataframe thead th {\n",
              "        text-align: right;\n",
              "    }\n",
              "</style>\n",
              "<table border=\"1\" class=\"dataframe\">\n",
              "  <thead>\n",
              "    <tr style=\"text-align: right;\">\n",
              "      <th></th>\n",
              "      <th>Rating</th>\n",
              "      <th>number of rating</th>\n",
              "    </tr>\n",
              "    <tr>\n",
              "      <th>ProfileID</th>\n",
              "      <th></th>\n",
              "      <th></th>\n",
              "    </tr>\n",
              "  </thead>\n",
              "  <tbody>\n",
              "    <tr>\n",
              "      <th>1</th>\n",
              "      <td>5.272727</td>\n",
              "      <td>22</td>\n",
              "    </tr>\n",
              "    <tr>\n",
              "      <th>2</th>\n",
              "      <td>7.150235</td>\n",
              "      <td>213</td>\n",
              "    </tr>\n",
              "    <tr>\n",
              "      <th>4</th>\n",
              "      <td>1.000000</td>\n",
              "      <td>1</td>\n",
              "    </tr>\n",
              "    <tr>\n",
              "      <th>8</th>\n",
              "      <td>7.500000</td>\n",
              "      <td>4</td>\n",
              "    </tr>\n",
              "    <tr>\n",
              "      <th>9</th>\n",
              "      <td>9.454545</td>\n",
              "      <td>22</td>\n",
              "    </tr>\n",
              "  </tbody>\n",
              "</table>\n",
              "</div>"
            ],
            "text/plain": [
              "             Rating  number of rating\n",
              "ProfileID                            \n",
              "1          5.272727                22\n",
              "2          7.150235               213\n",
              "4          1.000000                 1\n",
              "8          7.500000                 4\n",
              "9          9.454545                22"
            ]
          },
          "metadata": {
            "tags": []
          },
          "execution_count": 38
        }
      ]
    },
    {
      "metadata": {
        "id": "cG977GNSJhRx",
        "colab_type": "code",
        "colab": {
          "base_uri": "https://localhost:8080/",
          "height": 206
        },
        "outputId": "d6a5b8a3-1f94-4de5-874a-54ffeb52ae86"
      },
      "cell_type": "code",
      "source": [
        "df_dating_sample.head()"
      ],
      "execution_count": 39,
      "outputs": [
        {
          "output_type": "execute_result",
          "data": {
            "text/html": [
              "<div>\n",
              "<style scoped>\n",
              "    .dataframe tbody tr th:only-of-type {\n",
              "        vertical-align: middle;\n",
              "    }\n",
              "\n",
              "    .dataframe tbody tr th {\n",
              "        vertical-align: top;\n",
              "    }\n",
              "\n",
              "    .dataframe thead th {\n",
              "        text-align: right;\n",
              "    }\n",
              "</style>\n",
              "<table border=\"1\" class=\"dataframe\">\n",
              "  <thead>\n",
              "    <tr style=\"text-align: right;\">\n",
              "      <th></th>\n",
              "      <th>UserID</th>\n",
              "      <th>ProfileID</th>\n",
              "      <th>Rating</th>\n",
              "    </tr>\n",
              "  </thead>\n",
              "  <tbody>\n",
              "    <tr>\n",
              "      <th>0</th>\n",
              "      <td>1</td>\n",
              "      <td>133</td>\n",
              "      <td>8</td>\n",
              "    </tr>\n",
              "    <tr>\n",
              "      <th>1</th>\n",
              "      <td>1</td>\n",
              "      <td>720</td>\n",
              "      <td>6</td>\n",
              "    </tr>\n",
              "    <tr>\n",
              "      <th>2</th>\n",
              "      <td>1</td>\n",
              "      <td>971</td>\n",
              "      <td>10</td>\n",
              "    </tr>\n",
              "    <tr>\n",
              "      <th>3</th>\n",
              "      <td>1</td>\n",
              "      <td>1095</td>\n",
              "      <td>7</td>\n",
              "    </tr>\n",
              "    <tr>\n",
              "      <th>4</th>\n",
              "      <td>1</td>\n",
              "      <td>1616</td>\n",
              "      <td>10</td>\n",
              "    </tr>\n",
              "  </tbody>\n",
              "</table>\n",
              "</div>"
            ],
            "text/plain": [
              "   UserID  ProfileID  Rating\n",
              "0       1        133       8\n",
              "1       1        720       6\n",
              "2       1        971      10\n",
              "3       1       1095       7\n",
              "4       1       1616      10"
            ]
          },
          "metadata": {
            "tags": []
          },
          "execution_count": 39
        }
      ]
    },
    {
      "metadata": {
        "id": "8tzIlhOBC1Oi",
        "colab_type": "code",
        "colab": {}
      },
      "cell_type": "code",
      "source": [
        "profile_mean_rating = pd.DataFrame(df_dating_sample.groupby('ProfileID')['Rating'].mean())\n",
        "profile_mean_rating['number of rating'] = pd.DataFrame(df_dating_sample.groupby('ProfileID')['Rating'].count())\n",
        "user_mean_rating =pd.DataFrame(df_dating_sample.groupby('UserID')['Rating'].mean())\n",
        "user_mean_rating['number of rating'] = pd.DataFrame(df_dating_sample.groupby('UserID')['Rating'].count())\n"
      ],
      "execution_count": 0,
      "outputs": []
    },
    {
      "metadata": {
        "id": "TfDPMfozxyqm",
        "colab_type": "code",
        "colab": {}
      },
      "cell_type": "code",
      "source": [
        ""
      ],
      "execution_count": 0,
      "outputs": []
    },
    {
      "metadata": {
        "id": "qP8Av_X4LMBG",
        "colab_type": "text"
      },
      "cell_type": "markdown",
      "source": [
        "# Visulaizing the Profile rating dataset to undersatnd how the profile are rated and top profiles"
      ]
    },
    {
      "metadata": {
        "id": "PqeBhrR7G1rF",
        "colab_type": "code",
        "colab": {}
      },
      "cell_type": "code",
      "source": [
        "import matplotlib.pyplot as plt\n",
        "import seaborn as sns"
      ],
      "execution_count": 0,
      "outputs": []
    },
    {
      "metadata": {
        "id": "zKLOFu3ZHQaj",
        "colab_type": "code",
        "colab": {
          "base_uri": "https://localhost:8080/",
          "height": 501
        },
        "outputId": "283f6391-50a6-439b-ec42-97c838f16f69"
      },
      "cell_type": "code",
      "source": [
        "plt.figure(figsize=(12,8))\n",
        "profile_mean_rating['Rating'].hist(bins=120)"
      ],
      "execution_count": 42,
      "outputs": [
        {
          "output_type": "execute_result",
          "data": {
            "text/plain": [
              "<matplotlib.axes._subplots.AxesSubplot at 0x7fe89971b668>"
            ]
          },
          "metadata": {
            "tags": []
          },
          "execution_count": 42
        },
        {
          "output_type": "display_data",
          "data": {
            "image/png": "[encoded data removed]",
            "text/plain": [
              "<matplotlib.figure.Figure at 0x7fe89973f668>"
            ]
          },
          "metadata": {
            "tags": []
          }
        }
      ]
    },
    {
      "metadata": {
        "id": "h2G4Hyd6im-A",
        "colab_type": "text"
      },
      "cell_type": "markdown",
      "source": [
        "**In the above plot we see the graph follows a normal distribution except at the peaks ratings 1 and 10 which tells us that there are a lot of profile which are not liked by many user and lots of profiles heavily liked by users.**"
      ]
    },
    {
      "metadata": {
        "id": "FSLYcXIfICBI",
        "colab_type": "code",
        "colab": {
          "base_uri": "https://localhost:8080/",
          "height": 146
        },
        "outputId": "aa80d4ce-d034-4d35-b1be-91e44e9903ca"
      },
      "cell_type": "code",
      "source": [
        "profile_mean_rating['number of rating'].sort_values(ascending=False).head()\n"
      ],
      "execution_count": 43,
      "outputs": [
        {
          "output_type": "execute_result",
          "data": {
            "text/plain": [
              "ProfileID\n",
              "68989     4450\n",
              "179192    4209\n",
              "83773     4160\n",
              "155380    3667\n",
              "50408     3587\n",
              "Name: number of rating, dtype: int64"
            ]
          },
          "metadata": {
            "tags": []
          },
          "execution_count": 43
        }
      ]
    },
    {
      "metadata": {
        "id": "5VcPAKcJIUUv",
        "colab_type": "code",
        "colab": {
          "base_uri": "https://localhost:8080/",
          "height": 455
        },
        "outputId": "dc629ea8-75e8-43f4-8f68-4f4b0bd705b4"
      },
      "cell_type": "code",
      "source": [
        "sns.jointplot(x='Rating',y='number of rating',data=profile_mean_rating,alpha=0.5)"
      ],
      "execution_count": 44,
      "outputs": [
        {
          "output_type": "execute_result",
          "data": {
            "text/plain": [
              "<seaborn.axisgrid.JointGrid at 0x7fe89973fba8>"
            ]
          },
          "metadata": {
            "tags": []
          },
          "execution_count": 44
        },
        {
          "output_type": "display_data",
          "data": {
            "image/png": "[encoded data removed]",
            "text/plain": [
              "<matplotlib.figure.Figure at 0x7fe89973f7f0>"
            ]
          },
          "metadata": {
            "tags": []
          }
        }
      ]
    },
    {
      "metadata": {
        "id": "aeScMo5jMbh3",
        "colab_type": "text"
      },
      "cell_type": "markdown",
      "source": [
        "**We can see that for profiles around 6 to 8 is rated most and also number of profiles which are rated 10 is quite large in number. This indicates that most people rate the profile they like.**"
      ]
    },
    {
      "metadata": {
        "id": "K2C3ST0AN68q",
        "colab_type": "text"
      },
      "cell_type": "markdown",
      "source": [
        "**Plan of action for this week:**\n",
        "\n",
        "**1.Popularity based recommendation\n",
        "2.Content based recommendation\n",
        "3.User-User Recommendation\n",
        "4.Item-Item Recommendation\n",
        "5.SVD(without applying SGD to improve the weights)**"
      ]
    },
    {
      "metadata": {
        "id": "OA9uP0U1OeNi",
        "colab_type": "code",
        "colab": {
          "base_uri": "https://localhost:8080/",
          "height": 238
        },
        "outputId": "8580b4e2-e209-4829-ec27-7472146f95c3"
      },
      "cell_type": "code",
      "source": [
        "#Popularity based recommendation will recommend top 10 profiles which are rated by most number of user and are greater than 9.\n",
        "\n",
        "#Just writing the code snippet before putting the code in function\n",
        "  \n",
        "df_profile = profile_mean_rating.sort_values(['number of rating','Rating'],ascending=[False,False])\n",
        "df_profile.head()"
      ],
      "execution_count": 45,
      "outputs": [
        {
          "output_type": "execute_result",
          "data": {
            "text/html": [
              "<div>\n",
              "<style scoped>\n",
              "    .dataframe tbody tr th:only-of-type {\n",
              "        vertical-align: middle;\n",
              "    }\n",
              "\n",
              "    .dataframe tbody tr th {\n",
              "        vertical-align: top;\n",
              "    }\n",
              "\n",
              "    .dataframe thead th {\n",
              "        text-align: right;\n",
              "    }\n",
              "</style>\n",
              "<table border=\"1\" class=\"dataframe\">\n",
              "  <thead>\n",
              "    <tr style=\"text-align: right;\">\n",
              "      <th></th>\n",
              "      <th>Rating</th>\n",
              "      <th>number of rating</th>\n",
              "    </tr>\n",
              "    <tr>\n",
              "      <th>ProfileID</th>\n",
              "      <th></th>\n",
              "      <th></th>\n",
              "    </tr>\n",
              "  </thead>\n",
              "  <tbody>\n",
              "    <tr>\n",
              "      <th>68989</th>\n",
              "      <td>5.972809</td>\n",
              "      <td>4450</td>\n",
              "    </tr>\n",
              "    <tr>\n",
              "      <th>179192</th>\n",
              "      <td>7.569494</td>\n",
              "      <td>4209</td>\n",
              "    </tr>\n",
              "    <tr>\n",
              "      <th>83773</th>\n",
              "      <td>6.311538</td>\n",
              "      <td>4160</td>\n",
              "    </tr>\n",
              "    <tr>\n",
              "      <th>155380</th>\n",
              "      <td>5.334333</td>\n",
              "      <td>3667</td>\n",
              "    </tr>\n",
              "    <tr>\n",
              "      <th>50408</th>\n",
              "      <td>8.135768</td>\n",
              "      <td>3587</td>\n",
              "    </tr>\n",
              "  </tbody>\n",
              "</table>\n",
              "</div>"
            ],
            "text/plain": [
              "             Rating  number of rating\n",
              "ProfileID                            \n",
              "68989      5.972809              4450\n",
              "179192     7.569494              4209\n",
              "83773      6.311538              4160\n",
              "155380     5.334333              3667\n",
              "50408      8.135768              3587"
            ]
          },
          "metadata": {
            "tags": []
          },
          "execution_count": 45
        }
      ]
    },
    {
      "metadata": {
        "id": "53ARDvjDYykp",
        "colab_type": "code",
        "colab": {
          "base_uri": "https://localhost:8080/",
          "height": 35
        },
        "outputId": "12c1bba4-413b-4507-a5e9-3db27e4bad8e"
      },
      "cell_type": "code",
      "source": [
        "len(profile_mean_rating[(profile_mean_rating['number of rating'] > 10000) & (profile_mean_rating['Rating'] > 9)])"
      ],
      "execution_count": 46,
      "outputs": [
        {
          "output_type": "execute_result",
          "data": {
            "text/plain": [
              "0"
            ]
          },
          "metadata": {
            "tags": []
          },
          "execution_count": 46
        }
      ]
    },
    {
      "metadata": {
        "id": "kNEZ428uXOlt",
        "colab_type": "code",
        "colab": {}
      },
      "cell_type": "code",
      "source": [
        "#Defining Popularity Based Model\n",
        "def popular_recommend_model(userID,profile_df,threshold,k):\n",
        "  \"\"\"\n",
        "  It will return top 'k' profiles based on highest rating and number of ratings greated than the defined threshold irrespective of User ID,\n",
        "  If value of K is greater than the number of profile which matches the given criteria, then it is just going to return maximum profile \n",
        "  matching the given criteria.\n",
        "  \"\"\"\n",
        " # try:\n",
        "#   if len(profile_df[(profile_df['number of rating'] > threshold) & (profile_df['Rating'] > 9)]) < 1:\n",
        "#     print(\"Your filtering doesn't match any profiles\")\n",
        "  return (profile_df[(profile_df['number of rating'] > threshold) & (profile_df['Rating'] > 9)].head(k).index)\n",
        " # except:\n",
        " #   print(\"Index out of range\")"
      ],
      "execution_count": 0,
      "outputs": []
    },
    {
      "metadata": {
        "id": "h_Os34jdNjmc",
        "colab_type": "code",
        "colab": {
          "base_uri": "https://localhost:8080/",
          "height": 35
        },
        "outputId": "bb94cf66-8ba5-4100-f53f-a786d3733e1a"
      },
      "cell_type": "code",
      "source": [
        "popular_recommend_model(123,profile_mean_rating,2500,10)"
      ],
      "execution_count": 48,
      "outputs": [
        {
          "output_type": "execute_result",
          "data": {
            "text/plain": [
              "Int64Index([14258, 22319, 61157, 65602, 75169, 98678, 156148, 159680], dtype='int64', name='ProfileID')"
            ]
          },
          "metadata": {
            "tags": []
          },
          "execution_count": 48
        }
      ]
    },
    {
      "metadata": {
        "id": "-8IQiYHPkbec",
        "colab_type": "code",
        "colab": {}
      },
      "cell_type": "code",
      "source": [
        "#2. Content- Based Recommendation\n",
        "#It will check the similarity of profiles based on different latent features and recommend profile similar to the that profiles based on user \n",
        "#previous profile rating\n",
        "#creating Profile Matrix which will hold user as index and profile as column and their rating as values\n",
        "profilemat = df_dating_sample.pivot_table(index='UserID',columns='ProfileID',values='Rating')"
      ],
      "execution_count": 0,
      "outputs": []
    },
    {
      "metadata": {
        "id": "6zwlHkIpnms3",
        "colab_type": "code",
        "colab": {
          "base_uri": "https://localhost:8080/",
          "height": 128
        },
        "outputId": "b50c9155-8dea-4a97-e691-fb30932cad63"
      },
      "cell_type": "code",
      "source": [
        "profilemat.index"
      ],
      "execution_count": 50,
      "outputs": [
        {
          "output_type": "execute_result",
          "data": {
            "text/plain": [
              "Int64Index([     1,      9,     31,     65,     73,     99,    128,    134,\n",
              "               141,    147,\n",
              "            ...\n",
              "            135253, 135273, 135280, 135281, 135285, 135298, 135334, 135337,\n",
              "            135350, 135357],\n",
              "           dtype='int64', name='UserID', length=8130)"
            ]
          },
          "metadata": {
            "tags": []
          },
          "execution_count": 50
        }
      ]
    },
    {
      "metadata": {
        "id": "7tOQoO-5NkGc",
        "colab_type": "code",
        "colab": {
          "base_uri": "https://localhost:8080/",
          "height": 267
        },
        "outputId": "2ddf0fdb-43fb-4eeb-cf30-12f17c29b772"
      },
      "cell_type": "code",
      "source": [
        "profilemat.head()"
      ],
      "execution_count": 51,
      "outputs": [
        {
          "output_type": "execute_result",
          "data": {
            "text/html": [
              "<div>\n",
              "<style scoped>\n",
              "    .dataframe tbody tr th:only-of-type {\n",
              "        vertical-align: middle;\n",
              "    }\n",
              "\n",
              "    .dataframe tbody tr th {\n",
              "        vertical-align: top;\n",
              "    }\n",
              "\n",
              "    .dataframe thead th {\n",
              "        text-align: right;\n",
              "    }\n",
              "</style>\n",
              "<table border=\"1\" class=\"dataframe\">\n",
              "  <thead>\n",
              "    <tr style=\"text-align: right;\">\n",
              "      <th>ProfileID</th>\n",
              "      <th>42</th>\n",
              "      <th>55</th>\n",
              "      <th>57</th>\n",
              "      <th>58</th>\n",
              "      <th>77</th>\n",
              "      <th>84</th>\n",
              "      <th>90</th>\n",
              "      <th>132</th>\n",
              "      <th>133</th>\n",
              "      <th>175</th>\n",
              "      <th>...</th>\n",
              "      <th>220760</th>\n",
              "      <th>220782</th>\n",
              "      <th>220788</th>\n",
              "      <th>220840</th>\n",
              "      <th>220848</th>\n",
              "      <th>220859</th>\n",
              "      <th>220861</th>\n",
              "      <th>220900</th>\n",
              "      <th>220950</th>\n",
              "      <th>220953</th>\n",
              "    </tr>\n",
              "    <tr>\n",
              "      <th>UserID</th>\n",
              "      <th></th>\n",
              "      <th></th>\n",
              "      <th></th>\n",
              "      <th></th>\n",
              "      <th></th>\n",
              "      <th></th>\n",
              "      <th></th>\n",
              "      <th></th>\n",
              "      <th></th>\n",
              "      <th></th>\n",
              "      <th></th>\n",
              "      <th></th>\n",
              "      <th></th>\n",
              "      <th></th>\n",
              "      <th></th>\n",
              "      <th></th>\n",
              "      <th></th>\n",
              "      <th></th>\n",
              "      <th></th>\n",
              "      <th></th>\n",
              "      <th></th>\n",
              "    </tr>\n",
              "  </thead>\n",
              "  <tbody>\n",
              "    <tr>\n",
              "      <th>1</th>\n",
              "      <td>NaN</td>\n",
              "      <td>NaN</td>\n",
              "      <td>NaN</td>\n",
              "      <td>NaN</td>\n",
              "      <td>NaN</td>\n",
              "      <td>NaN</td>\n",
              "      <td>NaN</td>\n",
              "      <td>NaN</td>\n",
              "      <td>8.0</td>\n",
              "      <td>NaN</td>\n",
              "      <td>...</td>\n",
              "      <td>NaN</td>\n",
              "      <td>NaN</td>\n",
              "      <td>NaN</td>\n",
              "      <td>NaN</td>\n",
              "      <td>NaN</td>\n",
              "      <td>NaN</td>\n",
              "      <td>NaN</td>\n",
              "      <td>NaN</td>\n",
              "      <td>NaN</td>\n",
              "      <td>NaN</td>\n",
              "    </tr>\n",
              "    <tr>\n",
              "      <th>9</th>\n",
              "      <td>NaN</td>\n",
              "      <td>5.0</td>\n",
              "      <td>3.0</td>\n",
              "      <td>NaN</td>\n",
              "      <td>NaN</td>\n",
              "      <td>NaN</td>\n",
              "      <td>NaN</td>\n",
              "      <td>NaN</td>\n",
              "      <td>NaN</td>\n",
              "      <td>NaN</td>\n",
              "      <td>...</td>\n",
              "      <td>NaN</td>\n",
              "      <td>NaN</td>\n",
              "      <td>NaN</td>\n",
              "      <td>NaN</td>\n",
              "      <td>7.0</td>\n",
              "      <td>NaN</td>\n",
              "      <td>NaN</td>\n",
              "      <td>NaN</td>\n",
              "      <td>NaN</td>\n",
              "      <td>NaN</td>\n",
              "    </tr>\n",
              "    <tr>\n",
              "      <th>31</th>\n",
              "      <td>NaN</td>\n",
              "      <td>NaN</td>\n",
              "      <td>NaN</td>\n",
              "      <td>NaN</td>\n",
              "      <td>NaN</td>\n",
              "      <td>NaN</td>\n",
              "      <td>NaN</td>\n",
              "      <td>NaN</td>\n",
              "      <td>NaN</td>\n",
              "      <td>NaN</td>\n",
              "      <td>...</td>\n",
              "      <td>NaN</td>\n",
              "      <td>NaN</td>\n",
              "      <td>NaN</td>\n",
              "      <td>NaN</td>\n",
              "      <td>NaN</td>\n",
              "      <td>NaN</td>\n",
              "      <td>NaN</td>\n",
              "      <td>NaN</td>\n",
              "      <td>NaN</td>\n",
              "      <td>NaN</td>\n",
              "    </tr>\n",
              "    <tr>\n",
              "      <th>65</th>\n",
              "      <td>NaN</td>\n",
              "      <td>NaN</td>\n",
              "      <td>NaN</td>\n",
              "      <td>NaN</td>\n",
              "      <td>NaN</td>\n",
              "      <td>NaN</td>\n",
              "      <td>NaN</td>\n",
              "      <td>NaN</td>\n",
              "      <td>NaN</td>\n",
              "      <td>NaN</td>\n",
              "      <td>...</td>\n",
              "      <td>NaN</td>\n",
              "      <td>NaN</td>\n",
              "      <td>NaN</td>\n",
              "      <td>NaN</td>\n",
              "      <td>NaN</td>\n",
              "      <td>NaN</td>\n",
              "      <td>NaN</td>\n",
              "      <td>NaN</td>\n",
              "      <td>NaN</td>\n",
              "      <td>NaN</td>\n",
              "    </tr>\n",
              "    <tr>\n",
              "      <th>73</th>\n",
              "      <td>NaN</td>\n",
              "      <td>NaN</td>\n",
              "      <td>NaN</td>\n",
              "      <td>NaN</td>\n",
              "      <td>NaN</td>\n",
              "      <td>NaN</td>\n",
              "      <td>NaN</td>\n",
              "      <td>NaN</td>\n",
              "      <td>NaN</td>\n",
              "      <td>NaN</td>\n",
              "      <td>...</td>\n",
              "      <td>NaN</td>\n",
              "      <td>NaN</td>\n",
              "      <td>NaN</td>\n",
              "      <td>NaN</td>\n",
              "      <td>NaN</td>\n",
              "      <td>NaN</td>\n",
              "      <td>NaN</td>\n",
              "      <td>NaN</td>\n",
              "      <td>NaN</td>\n",
              "      <td>NaN</td>\n",
              "    </tr>\n",
              "  </tbody>\n",
              "</table>\n",
              "<p>5 rows × 12458 columns</p>\n",
              "</div>"
            ],
            "text/plain": [
              "ProfileID  42      55      57      58      77      84      90      132     \\\n",
              "UserID                                                                      \n",
              "1             NaN     NaN     NaN     NaN     NaN     NaN     NaN     NaN   \n",
              "9             NaN     5.0     3.0     NaN     NaN     NaN     NaN     NaN   \n",
              "31            NaN     NaN     NaN     NaN     NaN     NaN     NaN     NaN   \n",
              "65            NaN     NaN     NaN     NaN     NaN     NaN     NaN     NaN   \n",
              "73            NaN     NaN     NaN     NaN     NaN     NaN     NaN     NaN   \n",
              "\n",
              "ProfileID  133     175      ...    220760  220782  220788  220840  220848  \\\n",
              "UserID                      ...                                             \n",
              "1             8.0     NaN   ...       NaN     NaN     NaN     NaN     NaN   \n",
              "9             NaN     NaN   ...       NaN     NaN     NaN     NaN     7.0   \n",
              "31            NaN     NaN   ...       NaN     NaN     NaN     NaN     NaN   \n",
              "65            NaN     NaN   ...       NaN     NaN     NaN     NaN     NaN   \n",
              "73            NaN     NaN   ...       NaN     NaN     NaN     NaN     NaN   \n",
              "\n",
              "ProfileID  220859  220861  220900  220950  220953  \n",
              "UserID                                             \n",
              "1             NaN     NaN     NaN     NaN     NaN  \n",
              "9             NaN     NaN     NaN     NaN     NaN  \n",
              "31            NaN     NaN     NaN     NaN     NaN  \n",
              "65            NaN     NaN     NaN     NaN     NaN  \n",
              "73            NaN     NaN     NaN     NaN     NaN  \n",
              "\n",
              "[5 rows x 12458 columns]"
            ]
          },
          "metadata": {
            "tags": []
          },
          "execution_count": 51
        }
      ]
    },
    {
      "metadata": {
        "id": "0N1za7Zpu0dw",
        "colab_type": "text"
      },
      "cell_type": "markdown",
      "source": [
        "We can take users in df_dating with ratings grator than 19, Let's see than also ram gets full or not."
      ]
    },
    {
      "metadata": {
        "id": "c0ZOMn3aLjEf",
        "colab_type": "text"
      },
      "cell_type": "markdown",
      "source": [
        "**Now le's suppose some onle likes profiles 55, whatelse could we recommend to that user, \n",
        "so we find similarity of other profiles with the profile 55 , this is considered as content based filtering. **"
      ]
    },
    {
      "metadata": {
        "id": "YjNhD-HRMCaJ",
        "colab_type": "code",
        "colab": {
          "base_uri": "https://localhost:8080/",
          "height": 146
        },
        "outputId": "29056710-ef3a-4096-c6d0-2f13d575f019"
      },
      "cell_type": "code",
      "source": [
        "profile55_ratings = profilemat[55]\n",
        "profile55_ratings.head()"
      ],
      "execution_count": 52,
      "outputs": [
        {
          "output_type": "execute_result",
          "data": {
            "text/plain": [
              "UserID\n",
              "1     NaN\n",
              "9     5.0\n",
              "31    NaN\n",
              "65    NaN\n",
              "73    NaN\n",
              "Name: 55, dtype: float64"
            ]
          },
          "metadata": {
            "tags": []
          },
          "execution_count": 52
        }
      ]
    },
    {
      "metadata": {
        "id": "LoEJ__MSMa2J",
        "colab_type": "code",
        "colab": {
          "base_uri": "https://localhost:8080/",
          "height": 91
        },
        "outputId": "245eadd6-7aa8-4bf5-bdf2-fdc122db12bc"
      },
      "cell_type": "code",
      "source": [
        "similarto_profile55 = profilemat.corrwith(profile55_ratings)"
      ],
      "execution_count": 53,
      "outputs": [
        {
          "output_type": "stream",
          "text": [
            "/usr/local/lib/python3.6/dist-packages/numpy/lib/function_base.py:3175: RuntimeWarning: Degrees of freedom <= 0 for slice\n",
            "  c = cov(x, y, rowvar)\n",
            "/usr/local/lib/python3.6/dist-packages/numpy/lib/function_base.py:3109: RuntimeWarning: divide by zero encountered in double_scalars\n",
            "  c *= 1. / np.float64(fact)\n"
          ],
          "name": "stderr"
        }
      ]
    },
    {
      "metadata": {
        "id": "nq9_4FuBN7Bu",
        "colab_type": "code",
        "colab": {
          "base_uri": "https://localhost:8080/",
          "height": 146
        },
        "outputId": "e5b42867-a4fd-447a-8565-edc2a79d1caa"
      },
      "cell_type": "code",
      "source": [
        "similarto_profile55.head()"
      ],
      "execution_count": 54,
      "outputs": [
        {
          "output_type": "execute_result",
          "data": {
            "text/plain": [
              "ProfileID\n",
              "42   -0.474675\n",
              "55    1.000000\n",
              "57    0.074370\n",
              "58   -0.866025\n",
              "77    1.000000\n",
              "dtype: float64"
            ]
          },
          "metadata": {
            "tags": []
          },
          "execution_count": 54
        }
      ]
    },
    {
      "metadata": {
        "id": "1H30VTX7OPbJ",
        "colab_type": "code",
        "colab": {
          "base_uri": "https://localhost:8080/",
          "height": 238
        },
        "outputId": "2909dcce-871b-4f7f-fcb4-72cb80cb480c"
      },
      "cell_type": "code",
      "source": [
        "corr_profile55 = pd.DataFrame(similarto_profile55,columns=['Correlation'])\n",
        "corr_profile55.dropna(inplace=True)\n",
        "corr_profile55.head()"
      ],
      "execution_count": 55,
      "outputs": [
        {
          "output_type": "execute_result",
          "data": {
            "text/html": [
              "<div>\n",
              "<style scoped>\n",
              "    .dataframe tbody tr th:only-of-type {\n",
              "        vertical-align: middle;\n",
              "    }\n",
              "\n",
              "    .dataframe tbody tr th {\n",
              "        vertical-align: top;\n",
              "    }\n",
              "\n",
              "    .dataframe thead th {\n",
              "        text-align: right;\n",
              "    }\n",
              "</style>\n",
              "<table border=\"1\" class=\"dataframe\">\n",
              "  <thead>\n",
              "    <tr style=\"text-align: right;\">\n",
              "      <th></th>\n",
              "      <th>Correlation</th>\n",
              "    </tr>\n",
              "    <tr>\n",
              "      <th>ProfileID</th>\n",
              "      <th></th>\n",
              "    </tr>\n",
              "  </thead>\n",
              "  <tbody>\n",
              "    <tr>\n",
              "      <th>42</th>\n",
              "      <td>-0.474675</td>\n",
              "    </tr>\n",
              "    <tr>\n",
              "      <th>55</th>\n",
              "      <td>1.000000</td>\n",
              "    </tr>\n",
              "    <tr>\n",
              "      <th>57</th>\n",
              "      <td>0.074370</td>\n",
              "    </tr>\n",
              "    <tr>\n",
              "      <th>58</th>\n",
              "      <td>-0.866025</td>\n",
              "    </tr>\n",
              "    <tr>\n",
              "      <th>77</th>\n",
              "      <td>1.000000</td>\n",
              "    </tr>\n",
              "  </tbody>\n",
              "</table>\n",
              "</div>"
            ],
            "text/plain": [
              "           Correlation\n",
              "ProfileID             \n",
              "42           -0.474675\n",
              "55            1.000000\n",
              "57            0.074370\n",
              "58           -0.866025\n",
              "77            1.000000"
            ]
          },
          "metadata": {
            "tags": []
          },
          "execution_count": 55
        }
      ]
    },
    {
      "metadata": {
        "id": "EbWrZXLyOiiA",
        "colab_type": "code",
        "colab": {
          "base_uri": "https://localhost:8080/",
          "height": 395
        },
        "outputId": "c347d2c0-464f-4793-b761-64689e15782a"
      },
      "cell_type": "code",
      "source": [
        "corr_profile55.sort_values('Correlation',ascending=False).head(10)"
      ],
      "execution_count": 56,
      "outputs": [
        {
          "output_type": "execute_result",
          "data": {
            "text/html": [
              "<div>\n",
              "<style scoped>\n",
              "    .dataframe tbody tr th:only-of-type {\n",
              "        vertical-align: middle;\n",
              "    }\n",
              "\n",
              "    .dataframe tbody tr th {\n",
              "        vertical-align: top;\n",
              "    }\n",
              "\n",
              "    .dataframe thead th {\n",
              "        text-align: right;\n",
              "    }\n",
              "</style>\n",
              "<table border=\"1\" class=\"dataframe\">\n",
              "  <thead>\n",
              "    <tr style=\"text-align: right;\">\n",
              "      <th></th>\n",
              "      <th>Correlation</th>\n",
              "    </tr>\n",
              "    <tr>\n",
              "      <th>ProfileID</th>\n",
              "      <th></th>\n",
              "    </tr>\n",
              "  </thead>\n",
              "  <tbody>\n",
              "    <tr>\n",
              "      <th>26225</th>\n",
              "      <td>1.0</td>\n",
              "    </tr>\n",
              "    <tr>\n",
              "      <th>215226</th>\n",
              "      <td>1.0</td>\n",
              "    </tr>\n",
              "    <tr>\n",
              "      <th>9081</th>\n",
              "      <td>1.0</td>\n",
              "    </tr>\n",
              "    <tr>\n",
              "      <th>93818</th>\n",
              "      <td>1.0</td>\n",
              "    </tr>\n",
              "    <tr>\n",
              "      <th>189404</th>\n",
              "      <td>1.0</td>\n",
              "    </tr>\n",
              "    <tr>\n",
              "      <th>161416</th>\n",
              "      <td>1.0</td>\n",
              "    </tr>\n",
              "    <tr>\n",
              "      <th>62012</th>\n",
              "      <td>1.0</td>\n",
              "    </tr>\n",
              "    <tr>\n",
              "      <th>161843</th>\n",
              "      <td>1.0</td>\n",
              "    </tr>\n",
              "    <tr>\n",
              "      <th>21246</th>\n",
              "      <td>1.0</td>\n",
              "    </tr>\n",
              "    <tr>\n",
              "      <th>102817</th>\n",
              "      <td>1.0</td>\n",
              "    </tr>\n",
              "  </tbody>\n",
              "</table>\n",
              "</div>"
            ],
            "text/plain": [
              "           Correlation\n",
              "ProfileID             \n",
              "26225              1.0\n",
              "215226             1.0\n",
              "9081               1.0\n",
              "93818              1.0\n",
              "189404             1.0\n",
              "161416             1.0\n",
              "62012              1.0\n",
              "161843             1.0\n",
              "21246              1.0\n",
              "102817             1.0"
            ]
          },
          "metadata": {
            "tags": []
          },
          "execution_count": 56
        }
      ]
    },
    {
      "metadata": {
        "id": "lolglLU6RwER",
        "colab_type": "text"
      },
      "cell_type": "markdown",
      "source": [
        "**Here we see multiple profile are perfectly correlated, one reason could be only 1 or 2 user had rated that profile and those rating matched. So to give more relevant profile, we need to filter out based on certain number of users who have rated those profiles and still if those are similar then we will recommend those.**"
      ]
    },
    {
      "metadata": {
        "id": "RshsIcpsSTGi",
        "colab_type": "code",
        "colab": {
          "base_uri": "https://localhost:8080/",
          "height": 238
        },
        "outputId": "a0de4515-2d8a-4122-938f-f7314e0f845d"
      },
      "cell_type": "code",
      "source": [
        "corr_profile55 = corr_profile55.join(profile_mean_rating['number of rating'])\n",
        "corr_profile55.head()"
      ],
      "execution_count": 57,
      "outputs": [
        {
          "output_type": "execute_result",
          "data": {
            "text/html": [
              "<div>\n",
              "<style scoped>\n",
              "    .dataframe tbody tr th:only-of-type {\n",
              "        vertical-align: middle;\n",
              "    }\n",
              "\n",
              "    .dataframe tbody tr th {\n",
              "        vertical-align: top;\n",
              "    }\n",
              "\n",
              "    .dataframe thead th {\n",
              "        text-align: right;\n",
              "    }\n",
              "</style>\n",
              "<table border=\"1\" class=\"dataframe\">\n",
              "  <thead>\n",
              "    <tr style=\"text-align: right;\">\n",
              "      <th></th>\n",
              "      <th>Correlation</th>\n",
              "      <th>number of rating</th>\n",
              "    </tr>\n",
              "    <tr>\n",
              "      <th>ProfileID</th>\n",
              "      <th></th>\n",
              "      <th></th>\n",
              "    </tr>\n",
              "  </thead>\n",
              "  <tbody>\n",
              "    <tr>\n",
              "      <th>42</th>\n",
              "      <td>-0.474675</td>\n",
              "      <td>32</td>\n",
              "    </tr>\n",
              "    <tr>\n",
              "      <th>55</th>\n",
              "      <td>1.000000</td>\n",
              "      <td>497</td>\n",
              "    </tr>\n",
              "    <tr>\n",
              "      <th>57</th>\n",
              "      <td>0.074370</td>\n",
              "      <td>205</td>\n",
              "    </tr>\n",
              "    <tr>\n",
              "      <th>58</th>\n",
              "      <td>-0.866025</td>\n",
              "      <td>80</td>\n",
              "    </tr>\n",
              "    <tr>\n",
              "      <th>77</th>\n",
              "      <td>1.000000</td>\n",
              "      <td>84</td>\n",
              "    </tr>\n",
              "  </tbody>\n",
              "</table>\n",
              "</div>"
            ],
            "text/plain": [
              "           Correlation  number of rating\n",
              "ProfileID                               \n",
              "42           -0.474675                32\n",
              "55            1.000000               497\n",
              "57            0.074370               205\n",
              "58           -0.866025                80\n",
              "77            1.000000                84"
            ]
          },
          "metadata": {
            "tags": []
          },
          "execution_count": 57
        }
      ]
    },
    {
      "metadata": {
        "id": "H_BmBmmESlij",
        "colab_type": "code",
        "colab": {
          "base_uri": "https://localhost:8080/",
          "height": 395
        },
        "outputId": "3f2aa5ea-075f-4335-c140-0c5e54602c42"
      },
      "cell_type": "code",
      "source": [
        "corr_profile55[corr_profile55['number of rating'] >300].sort_values('Correlation',ascending = False).head(10)"
      ],
      "execution_count": 58,
      "outputs": [
        {
          "output_type": "execute_result",
          "data": {
            "text/html": [
              "<div>\n",
              "<style scoped>\n",
              "    .dataframe tbody tr th:only-of-type {\n",
              "        vertical-align: middle;\n",
              "    }\n",
              "\n",
              "    .dataframe tbody tr th {\n",
              "        vertical-align: top;\n",
              "    }\n",
              "\n",
              "    .dataframe thead th {\n",
              "        text-align: right;\n",
              "    }\n",
              "</style>\n",
              "<table border=\"1\" class=\"dataframe\">\n",
              "  <thead>\n",
              "    <tr style=\"text-align: right;\">\n",
              "      <th></th>\n",
              "      <th>Correlation</th>\n",
              "      <th>number of rating</th>\n",
              "    </tr>\n",
              "    <tr>\n",
              "      <th>ProfileID</th>\n",
              "      <th></th>\n",
              "      <th></th>\n",
              "    </tr>\n",
              "  </thead>\n",
              "  <tbody>\n",
              "    <tr>\n",
              "      <th>55</th>\n",
              "      <td>1.000000</td>\n",
              "      <td>497</td>\n",
              "    </tr>\n",
              "    <tr>\n",
              "      <th>67445</th>\n",
              "      <td>1.000000</td>\n",
              "      <td>448</td>\n",
              "    </tr>\n",
              "    <tr>\n",
              "      <th>34045</th>\n",
              "      <td>1.000000</td>\n",
              "      <td>307</td>\n",
              "    </tr>\n",
              "    <tr>\n",
              "      <th>186261</th>\n",
              "      <td>1.000000</td>\n",
              "      <td>433</td>\n",
              "    </tr>\n",
              "    <tr>\n",
              "      <th>74924</th>\n",
              "      <td>0.981981</td>\n",
              "      <td>391</td>\n",
              "    </tr>\n",
              "    <tr>\n",
              "      <th>206226</th>\n",
              "      <td>0.902829</td>\n",
              "      <td>468</td>\n",
              "    </tr>\n",
              "    <tr>\n",
              "      <th>149957</th>\n",
              "      <td>0.890871</td>\n",
              "      <td>317</td>\n",
              "    </tr>\n",
              "    <tr>\n",
              "      <th>165712</th>\n",
              "      <td>0.805823</td>\n",
              "      <td>321</td>\n",
              "    </tr>\n",
              "    <tr>\n",
              "      <th>101142</th>\n",
              "      <td>0.803886</td>\n",
              "      <td>390</td>\n",
              "    </tr>\n",
              "    <tr>\n",
              "      <th>21911</th>\n",
              "      <td>0.795248</td>\n",
              "      <td>415</td>\n",
              "    </tr>\n",
              "  </tbody>\n",
              "</table>\n",
              "</div>"
            ],
            "text/plain": [
              "           Correlation  number of rating\n",
              "ProfileID                               \n",
              "55            1.000000               497\n",
              "67445         1.000000               448\n",
              "34045         1.000000               307\n",
              "186261        1.000000               433\n",
              "74924         0.981981               391\n",
              "206226        0.902829               468\n",
              "149957        0.890871               317\n",
              "165712        0.805823               321\n",
              "101142        0.803886               390\n",
              "21911         0.795248               415"
            ]
          },
          "metadata": {
            "tags": []
          },
          "execution_count": 58
        }
      ]
    },
    {
      "metadata": {
        "id": "FnykN-NcWanj",
        "colab_type": "text"
      },
      "cell_type": "markdown",
      "source": [
        "**Putting all these in a function which will take any profile ID and return most similar profile to that profile given the profile has atleast 200 ratings**"
      ]
    },
    {
      "metadata": {
        "id": "zkLF6oKbWz93",
        "colab_type": "code",
        "colab": {}
      },
      "cell_type": "code",
      "source": [
        "def content_based_recommend(profileID, profilemat,profile_mean_rating):\n",
        "  \"\"\"\n",
        "  This function which will take any profile ID and return most similar profile to that profile from user-profile rating matrix\n",
        "  given the profile has atleast 200 ratings\n",
        "  \"\"\"\n",
        "  rating_profileID = profilemat[profileID]\n",
        "  corr_profileID = pd.DataFrame(profilemat.corrwith(rating_profileID),columns=['Correlation'])\n",
        "  corr_profileID.dropna(inplace=True)\n",
        "  corr_profileID = corr_profileID.join(profile_mean_rating['number of rating'])\n",
        "  return (corr_profileID[corr_profileID['number of rating'] > 300].sort_values('Correlation',ascending=False).head(20))"
      ],
      "execution_count": 0,
      "outputs": []
    },
    {
      "metadata": {
        "id": "iR9fXFgtWLwv",
        "colab_type": "code",
        "colab": {
          "base_uri": "https://localhost:8080/",
          "height": 782
        },
        "outputId": "c1ce4445-9174-4211-8321-d939cdf62ea9"
      },
      "cell_type": "code",
      "source": [
        "content_based_recommend(175,profilemat,profile_mean_rating)"
      ],
      "execution_count": 60,
      "outputs": [
        {
          "output_type": "stream",
          "text": [
            "/usr/local/lib/python3.6/dist-packages/numpy/lib/function_base.py:3175: RuntimeWarning: Degrees of freedom <= 0 for slice\n",
            "  c = cov(x, y, rowvar)\n",
            "/usr/local/lib/python3.6/dist-packages/numpy/lib/function_base.py:3109: RuntimeWarning: divide by zero encountered in double_scalars\n",
            "  c *= 1. / np.float64(fact)\n"
          ],
          "name": "stderr"
        },
        {
          "output_type": "execute_result",
          "data": {
            "text/html": [
              "<div>\n",
              "<style scoped>\n",
              "    .dataframe tbody tr th:only-of-type {\n",
              "        vertical-align: middle;\n",
              "    }\n",
              "\n",
              "    .dataframe tbody tr th {\n",
              "        vertical-align: top;\n",
              "    }\n",
              "\n",
              "    .dataframe thead th {\n",
              "        text-align: right;\n",
              "    }\n",
              "</style>\n",
              "<table border=\"1\" class=\"dataframe\">\n",
              "  <thead>\n",
              "    <tr style=\"text-align: right;\">\n",
              "      <th></th>\n",
              "      <th>Correlation</th>\n",
              "      <th>number of rating</th>\n",
              "    </tr>\n",
              "    <tr>\n",
              "      <th>ProfileID</th>\n",
              "      <th></th>\n",
              "      <th></th>\n",
              "    </tr>\n",
              "  </thead>\n",
              "  <tbody>\n",
              "    <tr>\n",
              "      <th>8088</th>\n",
              "      <td>1.0</td>\n",
              "      <td>469</td>\n",
              "    </tr>\n",
              "    <tr>\n",
              "      <th>48577</th>\n",
              "      <td>1.0</td>\n",
              "      <td>461</td>\n",
              "    </tr>\n",
              "    <tr>\n",
              "      <th>88862</th>\n",
              "      <td>1.0</td>\n",
              "      <td>532</td>\n",
              "    </tr>\n",
              "    <tr>\n",
              "      <th>121890</th>\n",
              "      <td>1.0</td>\n",
              "      <td>469</td>\n",
              "    </tr>\n",
              "    <tr>\n",
              "      <th>7778</th>\n",
              "      <td>1.0</td>\n",
              "      <td>404</td>\n",
              "    </tr>\n",
              "    <tr>\n",
              "      <th>121273</th>\n",
              "      <td>1.0</td>\n",
              "      <td>419</td>\n",
              "    </tr>\n",
              "    <tr>\n",
              "      <th>7965</th>\n",
              "      <td>1.0</td>\n",
              "      <td>817</td>\n",
              "    </tr>\n",
              "    <tr>\n",
              "      <th>119551</th>\n",
              "      <td>1.0</td>\n",
              "      <td>357</td>\n",
              "    </tr>\n",
              "    <tr>\n",
              "      <th>9306</th>\n",
              "      <td>1.0</td>\n",
              "      <td>894</td>\n",
              "    </tr>\n",
              "    <tr>\n",
              "      <th>115127</th>\n",
              "      <td>1.0</td>\n",
              "      <td>1220</td>\n",
              "    </tr>\n",
              "    <tr>\n",
              "      <th>114815</th>\n",
              "      <td>1.0</td>\n",
              "      <td>752</td>\n",
              "    </tr>\n",
              "    <tr>\n",
              "      <th>27973</th>\n",
              "      <td>1.0</td>\n",
              "      <td>403</td>\n",
              "    </tr>\n",
              "    <tr>\n",
              "      <th>98175</th>\n",
              "      <td>1.0</td>\n",
              "      <td>385</td>\n",
              "    </tr>\n",
              "    <tr>\n",
              "      <th>112777</th>\n",
              "      <td>1.0</td>\n",
              "      <td>962</td>\n",
              "    </tr>\n",
              "    <tr>\n",
              "      <th>53690</th>\n",
              "      <td>1.0</td>\n",
              "      <td>443</td>\n",
              "    </tr>\n",
              "    <tr>\n",
              "      <th>111283</th>\n",
              "      <td>1.0</td>\n",
              "      <td>306</td>\n",
              "    </tr>\n",
              "    <tr>\n",
              "      <th>196366</th>\n",
              "      <td>1.0</td>\n",
              "      <td>364</td>\n",
              "    </tr>\n",
              "    <tr>\n",
              "      <th>57245</th>\n",
              "      <td>1.0</td>\n",
              "      <td>317</td>\n",
              "    </tr>\n",
              "    <tr>\n",
              "      <th>57610</th>\n",
              "      <td>1.0</td>\n",
              "      <td>372</td>\n",
              "    </tr>\n",
              "    <tr>\n",
              "      <th>16480</th>\n",
              "      <td>1.0</td>\n",
              "      <td>368</td>\n",
              "    </tr>\n",
              "  </tbody>\n",
              "</table>\n",
              "</div>"
            ],
            "text/plain": [
              "           Correlation  number of rating\n",
              "ProfileID                               \n",
              "8088               1.0               469\n",
              "48577              1.0               461\n",
              "88862              1.0               532\n",
              "121890             1.0               469\n",
              "7778               1.0               404\n",
              "121273             1.0               419\n",
              "7965               1.0               817\n",
              "119551             1.0               357\n",
              "9306               1.0               894\n",
              "115127             1.0              1220\n",
              "114815             1.0               752\n",
              "27973              1.0               403\n",
              "98175              1.0               385\n",
              "112777             1.0               962\n",
              "53690              1.0               443\n",
              "111283             1.0               306\n",
              "196366             1.0               364\n",
              "57245              1.0               317\n",
              "57610              1.0               372\n",
              "16480              1.0               368"
            ]
          },
          "metadata": {
            "tags": []
          },
          "execution_count": 60
        }
      ]
    },
    {
      "metadata": {
        "id": "4n2OttsfaN9y",
        "colab_type": "code",
        "colab": {}
      },
      "cell_type": "code",
      "source": [
        ""
      ],
      "execution_count": 0,
      "outputs": []
    },
    {
      "metadata": {
        "id": "zc1mQAIZdmLO",
        "colab_type": "text"
      },
      "cell_type": "markdown",
      "source": [
        "For User-item or item-item memory based Collaborative Filetering, we need to make a matrix in which we'll be storing the pairwise distance;  Also do we need to split our dataset into train and test set? Because in which we'll be storing the distance right?\n",
        "We'll be applying this  right?\n",
        "<br> <h3> For item-item <br>\n",
        "  <p> Cosine Similarity </p>\n",
        "<img class=\"aligncenter size-thumbnail img-responsive\" src=\"https://latex.codecogs.com/gif.latex?\\hat{x}_{k,m}&space;=&space;\\frac{\\sum\\limits_{i_b}&space;sim_i(i_m,&space;i_b)&space;(x_{k,b})&space;}{\\sum\\limits_{i_b}|sim_i(i_m,&space;i_b)|}\"/>"
      ]
    },
    {
      "metadata": {
        "id": "nSWjeCxnr9fD",
        "colab_type": "text"
      },
      "cell_type": "markdown",
      "source": [
        "User -Item Similarity : Users who are similar to you also liked\n",
        "\n",
        "Similarity values between users are measured by observing all the items that are rated by both users.\n",
        "\n",
        "<img class=\"aligncenter size-thumbnail img-responsive\" src=\"https://latex.codecogs.com/gif.latex?\\hat{x}_{k,m}&space;=&space;\\bar{x}_{k}&space;&plus;&space;\\frac{\\sum\\limits_{u_a}&space;sim_u(u_k,&space;u_a)&space;(x_{a,m}&space;-&space;\\bar{x_{u_a}})}{\\sum\\limits_{u_a}|sim_u(u_k,&space;u_a)|}\"/>\n",
        "\n"
      ]
    },
    {
      "metadata": {
        "id": "0-kLKWJivjZw",
        "colab_type": "code",
        "colab": {}
      },
      "cell_type": "code",
      "source": [
        "from sklearn.model_selection import train_test_split"
      ],
      "execution_count": 0,
      "outputs": []
    },
    {
      "metadata": {
        "id": "ydummIUXvvXh",
        "colab_type": "code",
        "colab": {}
      },
      "cell_type": "code",
      "source": [
        "df_train, df_test = train_test_split(df_dating, test_size = 0.25)"
      ],
      "execution_count": 0,
      "outputs": []
    },
    {
      "metadata": {
        "id": "1YeLgkb-7TPZ",
        "colab_type": "code",
        "colab": {
          "base_uri": "https://localhost:8080/",
          "height": 35
        },
        "outputId": "fc8c9e4e-c983-4e48-ad0b-2f5f89781227"
      },
      "cell_type": "code",
      "source": [
        "n_users_all = df_dating['UserID'].unique().shape[0]\n",
        "n_items_all = df_dating['ProfileID'].unique().shape[0]\n",
        "n_users_all, n_items_all"
      ],
      "execution_count": 67,
      "outputs": [
        {
          "output_type": "execute_result",
          "data": {
            "text/plain": [
              "(135359, 168791)"
            ]
          },
          "metadata": {
            "tags": []
          },
          "execution_count": 67
        }
      ]
    },
    {
      "metadata": {
        "id": "H4UZQiHSs7gh",
        "colab_type": "code",
        "colab": {
          "base_uri": "https://localhost:8080/",
          "height": 35
        },
        "outputId": "f1e55343-53ac-4408-abaa-6b84b10a1237"
      },
      "cell_type": "code",
      "source": [
        "n_users = df_dating_sample['UserID'].unique().shape[0]\n",
        "n_items = df_dating_sample['ProfileID'].unique().shape[0]\n",
        "n_users, n_items"
      ],
      "execution_count": 68,
      "outputs": [
        {
          "output_type": "execute_result",
          "data": {
            "text/plain": [
              "(8130, 12458)"
            ]
          },
          "metadata": {
            "tags": []
          },
          "execution_count": 68
        }
      ]
    },
    {
      "metadata": {
        "id": "Z-uUTIpWvTvU",
        "colab_type": "code",
        "colab": {
          "base_uri": "https://localhost:8080/",
          "height": 35
        },
        "outputId": "3ec342fe-60c9-4257-e5bc-ae0d6a5f06be"
      },
      "cell_type": "code",
      "source": [
        ""
      ],
      "execution_count": 144,
      "outputs": [
        {
          "output_type": "execute_result",
          "data": {
            "text/plain": [
              "(8130, 12436)"
            ]
          },
          "metadata": {
            "tags": []
          },
          "execution_count": 144
        }
      ]
    },
    {
      "metadata": {
        "id": "ExH0Fgg1rxGm",
        "colab_type": "code",
        "colab": {
          "base_uri": "https://localhost:8080/",
          "height": 35
        },
        "outputId": "296f1c53-40ac-4c13-9f42-6fe94d0bab72"
      },
      "cell_type": "code",
      "source": [
        "df_dating_sample['ProfileID'].unique().shape[0]"
      ],
      "execution_count": 69,
      "outputs": [
        {
          "output_type": "execute_result",
          "data": {
            "text/plain": [
              "12458"
            ]
          },
          "metadata": {
            "tags": []
          },
          "execution_count": 69
        }
      ]
    },
    {
      "metadata": {
        "id": "IgBzvodmsLM5",
        "colab_type": "code",
        "colab": {
          "base_uri": "https://localhost:8080/",
          "height": 35
        },
        "outputId": "d42c8aad-703b-49ce-8677-0851b7c738a4"
      },
      "cell_type": "code",
      "source": [
        "df_dating_sample.shape, df_train.shape, df_test.shape"
      ],
      "execution_count": 70,
      "outputs": [
        {
          "output_type": "execute_result",
          "data": {
            "text/plain": [
              "((3465704, 3), (2599278, 3), (866426, 3))"
            ]
          },
          "metadata": {
            "tags": []
          },
          "execution_count": 70
        }
      ]
    },
    {
      "metadata": {
        "id": "3w3ppxEavHj6",
        "colab_type": "code",
        "colab": {
          "base_uri": "https://localhost:8080/",
          "height": 35
        },
        "outputId": "de19d764-904a-4a6e-fd31-964a59487376"
      },
      "cell_type": "code",
      "source": [
        "for line in df_dating_sample.itertuples():\n",
        "  print(line)\n",
        "  break"
      ],
      "execution_count": 140,
      "outputs": [
        {
          "output_type": "stream",
          "text": [
            "Pandas(Index=0, UserID=1, ProfileID=133, Rating=8)\n"
          ],
          "name": "stdout"
        }
      ]
    },
    {
      "metadata": {
        "id": "eUXcJHCV78iY",
        "colab_type": "code",
        "colab": {}
      },
      "cell_type": "code",
      "source": [
        "train_data_mat = np.zeros((n_users, n_items))"
      ],
      "execution_count": 0,
      "outputs": []
    },
    {
      "metadata": {
        "id": "PM6FAYZfpnHF",
        "colab_type": "code",
        "colab": {}
      },
      "cell_type": "code",
      "source": [
        "#Create two user-item matrix, one for training and another for testing\n",
        "train_data_mat = np.zeros((n_users, n_items))\n",
        "#itertuples gives you content of the row along with it's index\n",
        "for line in df_train.itertuples():\n",
        "  #line[1] - 1 is used to account for index to start from 0, so we get value like\n",
        "  #train_data_mat[userID,ProfileID] = Rating\n",
        "  train_data_mat[ line[1] -1, line[2] -1 ] = line[3]\n",
        "test_data_mat = np.zeros((n_users, n_items))\n",
        "for line in df_test.itertuples():\n",
        "\n",
        "  test_data_mat[ line[1] -1, line[2] -1 ] = line[3]\n"
      ],
      "execution_count": 0,
      "outputs": []
    },
    {
      "metadata": {
        "id": "VFvGnForLHKg",
        "colab_type": "text"
      },
      "cell_type": "markdown",
      "source": [
        "In recommendation system, we commonly use cosine matrix which will treat the ratings given by a specific user as a vector assuming all the null values as 0 rating and then the cosine gives you the measure of similarity as we know cos(0) = 1 so a value of 1 means the users are very similar.\n",
        "\n",
        "Cosine similiarity for users *a* and *m* can be calculated using the formula below, where you take dot product of  the user vector *$u_k$* and the user vector *$u_a$* and divide it by multiplication of the Euclidean lengths of the vectors.\n",
        "<img class=\"aligncenter size-thumbnail img-responsive\" src=\"https://latex.codecogs.com/gif.latex?s_u^{cos}(u_k,u_a)=\\frac{u_k&space;\\cdot&space;u_a&space;}{&space;\\left&space;\\|&space;u_k&space;\\right&space;\\|&space;\\left&space;\\|&space;u_a&space;\\right&space;\\|&space;}&space;=\\frac{\\sum&space;x_{k,m}x_{a,m}}{\\sqrt{\\sum&space;x_{k,m}^2\\sum&space;x_{a,m}^2}}\"/>\n"
      ]
    },
    {
      "metadata": {
        "id": "PCUdk2RbNLWd",
        "colab_type": "text"
      },
      "cell_type": "markdown",
      "source": [
        "To calculate similarity between items *m* and *b* you use the formula:\n",
        "\n",
        "<img class=\"aligncenter size-thumbnail img-responsive\" src=\"https://latex.codecogs.com/gif.latex?s_u^{cos}(i_m,i_b)=\\frac{i_m&space;\\cdot&space;i_b&space;}{&space;\\left&space;\\|&space;i_m&space;\\right&space;\\|&space;\\left&space;\\|&space;i_b&space;\\right&space;\\|&space;}&space;=\\frac{\\sum&space;x_{a,m}x_{a,b}}{\\sqrt{\\sum&space;x_{a,m}^2\\sum&space;x_{a,b}^2}}\n",
        "\"/>\n"
      ]
    },
    {
      "metadata": {
        "id": "RV6siVcTNMWu",
        "colab_type": "code",
        "colab": {}
      },
      "cell_type": "code",
      "source": [
        ""
      ],
      "execution_count": 0,
      "outputs": []
    },
    {
      "metadata": {
        "id": "sEAwW9L9MVG5",
        "colab_type": "code",
        "colab": {}
      },
      "cell_type": "code",
      "source": [
        ""
      ],
      "execution_count": 0,
      "outputs": []
    },
    {
      "metadata": {
        "id": "GVetWmdm55Zl",
        "colab_type": "code",
        "colab": {}
      },
      "cell_type": "code",
      "source": [
        "from sklearn.metrics.pairwise import pairwise_distances\n",
        "user_similarity = pairwise_distances(train_data_matrix, metric='cosine')\n",
        "item_similarity = pairwise_distances(train_data_matrix.T, metric='cosine')"
      ],
      "execution_count": 0,
      "outputs": []
    },
    {
      "metadata": {
        "id": "j5t1Z3C_SfB9",
        "colab_type": "text"
      },
      "cell_type": "markdown",
      "source": [
        "Now we will make prediction based on the similarity of the above calculated matrix. For user based CF, we will use the below formula.\n",
        "\n",
        "<img class=\"aligncenter size-thumbnail img-responsive\" src=\"https://latex.codecogs.com/gif.latex?\\hat{x}_{k,m}&space;=&space;\\bar{x}_{k}&space;&plus;&space;\\frac{\\sum\\limits_{u_a}&space;sim_u(u_k,&space;u_a)&space;(x_{a,m}&space;-&space;\\bar{x_{u_a}})}{\\sum\\limits_{u_a}|sim_u(u_k,&space;u_a)|}\"/>\n",
        "\n",
        "We are subtracting the user mean rating from each rating which would take care of differences between user while rating. Say for example, a user m rates good profile with 8 and the profile he dislikes with 2 and similarly other user a rates movies he likes with 10 and other movies 4. Now both the users have similar taste but they rate differently. After removing the average rating of a user, we also need to normalize so the rating doesn't cross 10. For this we have divided with the \n",
        "\n",
        "And for item based CF, we will use the below mentioned formula:\n",
        "\n",
        "<img class=\"aligncenter size-thumbnail img-responsive\" src=\"https://latex.codecogs.com/gif.latex?\\hat{x}_{k,m}&space;=&space;\\frac{\\sum\\limits_{i_b}&space;sim_i(i_m,&space;i_b)&space;(x_{k,b})&space;}{\\sum\\limits_{i_b}|sim_i(i_m,&space;i_b)|}\"/>"
      ]
    },
    {
      "metadata": {
        "id": "2JxB-oVssc92",
        "colab_type": "code",
        "colab": {}
      },
      "cell_type": "code",
      "source": [
        "def predict(ratings, similarity, type='user'):\n",
        "    if type == 'user':\n",
        "        mean_user_rating = ratings.mean(axis=1)\n",
        "        #You use np.newaxis so that mean_user_rating has same format as ratings\n",
        "        ratings_diff = (ratings - mean_user_rating[:, np.newaxis]) \n",
        "        rate_pred = mean_user_rating[:, np.newaxis] + similarity.dot(ratings_diff) / np.array([np.abs(similarity).sum(axis=1)]).T\n",
        "    elif type == 'item':\n",
        "        rate_pred = ratings.dot(similarity) / np.array([np.abs(similarity).sum(axis=1)])     \n",
        "    return rate_pred"
      ],
      "execution_count": 0,
      "outputs": []
    },
    {
      "metadata": {
        "id": "yjfwFEGeVSkD",
        "colab_type": "code",
        "colab": {}
      },
      "cell_type": "code",
      "source": [
        "item_prediction = predict(train_data_mat, item_similarity, type='item')\n",
        "user_prediction = predict(train_data_mat, user_similarity, type='user')"
      ],
      "execution_count": 0,
      "outputs": []
    },
    {
      "metadata": {
        "id": "80XLAoyDVpZR",
        "colab_type": "text"
      },
      "cell_type": "markdown",
      "source": [
        "We will use RMSE to evaluate the predicted ratings.\n",
        "\n",
        "Now for calculating RMSE , we would like to filter out the rating which re available in the test_data_mat. This could be done by using nonzero method on the series which would provide the index were the values are not zero."
      ]
    },
    {
      "metadata": {
        "id": "6IMuHBB2XTub",
        "colab_type": "code",
        "colab": {}
      },
      "cell_type": "code",
      "source": [
        "from sklearn.metrics import mean_squared_error\n",
        "from math import sqrt\n",
        "def rmse(prediction, test):\n",
        "    prediction = prediction[test.nonzero()].flatten() \n",
        "    test = test[test.nonzero()].flatten()\n",
        "    return sqrt(mean_squared_error(prediction, test))"
      ],
      "execution_count": 0,
      "outputs": []
    },
    {
      "metadata": {
        "id": "RiIxR2NpXfY9",
        "colab_type": "code",
        "colab": {}
      },
      "cell_type": "code",
      "source": [
        "print('User-Item similarity CF RMSE: ' + str(rmse(user_prediction, test_data_matrix)))\n",
        "print('Item-Item similarity CF RMSE: ' + str(rmse(item_prediction, test_data_matrix)))"
      ],
      "execution_count": 0,
      "outputs": []
    },
    {
      "metadata": {
        "id": "rcLZegC1YheT",
        "colab_type": "text"
      },
      "cell_type": "markdown",
      "source": [
        "**Model Based Collaborative Filtering**\n",
        "\n",
        "Model based collaborative filtering is based on Matrix Factorisation which is a unsupervised learning. The goal of factorisation is to find the latent features of Users and Latent features of items.\n",
        "\n",
        "Matrix factorization models map both users and items to a joint latent factor space of dimensionality, such that user-item interactions are modeled as inner products in that space. Accordingly, each item i is associated with avector qi ∈ train_data_mat(User-Item rating matrix), and each user u is associated with a vector pu ∈ train_data_mat(User-Item rating matrix) .\n",
        "\n",
        "For a given item i, the elements of qi measure the extent to which the item possesses those factors, positive or negative. For a given user u, the elements of pu measure the extent of interest the user has in items that are high on the corresponding factors, again, positive or negative. The resulting dot product,\n",
        "qi.T.pu\n",
        " captures the interaction between user u and item i—the user’s overall interest in the item’s characteristics. This approximates user u’s rating of item i, which is denoted by rui, leading to the estimate\n",
        "rˆui = qi.T .pu."
      ]
    },
    {
      "metadata": {
        "id": "_Mz7IdkMqokA",
        "colab_type": "text"
      },
      "cell_type": "markdown",
      "source": [
        "**SVD**\n",
        "A well known method for Matrix Factorisation is Singular Value Decomposition(SVD). The general equation for SVD is expressed as follows:\n",
        "<img src=\"https://latex.codecogs.com/gif.latex?M=USV^T\" title=\"M=USV^T\" />"
      ]
    },
    {
      "metadata": {
        "id": "iI-IgzborkYU",
        "colab_type": "text"
      },
      "cell_type": "markdown",
      "source": [
        "Given `m x n` matrix `M`:\n",
        "* *`U`* is an *`(m x r)`* orthogonal matrix\n",
        "* *`S`* is an *`(r x r)`* diagonal matrix with non-negative real numbers on the diagonal\n",
        "* *V^T* is an *`(r x n)`* orthogonal matrix\n",
        "\n",
        "Elements on the diagnoal in `S` are known as *singular values of `M`*. \n",
        "\n",
        "\n",
        "Matrix *`M`* can be factorized to *`U`*, *`S`* and *`V`*. The *`U`* matrix represents the feature vectors corresponding to the users in the hidden feature space and the *`V`* matrix represents the feature vectors corresponding to the items in the hidden feature space."
      ]
    },
    {
      "metadata": {
        "id": "HgLzfvSRrpNj",
        "colab_type": "code",
        "colab": {}
      },
      "cell_type": "code",
      "source": [
        "import scipy.sparse as sp\n",
        "from scipy.sparse.linalg import svds\n",
        "\n",
        "#get SVD components from train matrix. Choose k.\n",
        "u, s, vt = svds(train_data_mat, k = 50)\n",
        "s_diag_matrix=np.diag(s)\n",
        "X_pred = np.dot(np.dot(u, s_diag_matrix), vt)\n",
        "print('Model-based CF MSE: ' + str(rmse(X_pred, test_data_mat)))"
      ],
      "execution_count": 0,
      "outputs": []
    },
    {
      "metadata": {
        "id": "w-r-mWDOrfvS",
        "colab_type": "code",
        "colab": {}
      },
      "cell_type": "code",
      "source": [
        ""
      ],
      "execution_count": 0,
      "outputs": []
    },
    {
      "metadata": {
        "id": "Piab3KgNrM08",
        "colab_type": "code",
        "colab": {}
      },
      "cell_type": "code",
      "source": [
        ""
      ],
      "execution_count": 0,
      "outputs": []
    },
    {
      "metadata": {
        "id": "GLzi4MYOqn91",
        "colab_type": "code",
        "colab": {}
      },
      "cell_type": "code",
      "source": [
        ""
      ],
      "execution_count": 0,
      "outputs": []
    },
    {
      "metadata": {
        "id": "rceRegGdXuA_",
        "colab_type": "code",
        "colab": {}
      },
      "cell_type": "code",
      "source": [
        ""
      ],
      "execution_count": 0,
      "outputs": []
    },
    {
      "metadata": {
        "id": "2HAHyw4XVjBi",
        "colab_type": "code",
        "colab": {}
      },
      "cell_type": "code",
      "source": [
        ""
      ],
      "execution_count": 0,
      "outputs": []
    }
  ]
}